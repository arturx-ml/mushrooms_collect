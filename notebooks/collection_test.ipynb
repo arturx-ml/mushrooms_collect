{
  "cells": [
    {
      "cell_type": "code",
      "execution_count": 59,
      "metadata": {
        "collapsed": true,
        "pycharm": {
          "is_executing": false
        }
      },
      "outputs": [],
      "source": "import requests\nfrom bs4 import BeautifulSoup"
    },
    {
      "cell_type": "code",
      "execution_count": 56,
      "outputs": [],
      "source": "url \u003d \"http://грибоведы.рф/mushrooms/berjom-inogda/plastinchatye/148-armillaria-mellea.html\"\npage \u003d requests.get(url)\nhtml \u003d page.text\nsoup \u003d BeautifulSoup(html,\u0027html.parser\u0027)#%%",
      "metadata": {
        "pycharm": {
          "metadata": false,
          "name": "#%%\n",
          "is_executing": false
        }
      }
    },
    {
      "cell_type": "code",
      "execution_count": 57,
      "outputs": [
        {
          "name": "stdout",
          "text": [
            "/images/02.png\n/images/Logosmall2.png\n/images/images3/Armillaria_mellea/P9179198.jpg\n/images/images3/Armillaria_mellea/001_101_0268.jpg\n/images/images3/Armillaria_mellea/002_100_0626.jpg\n/images/images3/Armillaria_mellea/003_P9158401.jpg\n/images/images3/Armillaria_mellea/004_100_0568.jpg\n/images/images3/Armillaria_mellea/005_2_MG_3996.jpg\n/images/images3/Armillaria_mellea/006_100_1641.jpg\n/images/images3/Armillaria_mellea/007_P9204003.jpg\n/images/images3/Armillaria_mellea/008_P8281331.jpg\n/images/images3/Armillaria_mellea/009_100_3080.jpg\n/images/images3/Armillaria_mellea/011_P9031963.jpg\n/images/images3/Armillaria_mellea/012_100_3094.jpg\n/images/images3/Armillaria_mellea/015_P9158395.jpg\n/images/images3/Armillaria_mellea/016_P9225770.jpg\n/images/images3/Armillaria_mellea/017_100_3463.jpg\n/images/images3/Armillaria_mellea/018_00_3096.jpg\n/images/images3/Armillaria_mellea/019_P9179184.jpg\n/images/images3/Armillaria_mellea/020_100_4864.jpg\n/images/images3/Armillaria_mellea/021_P9214403.jpg\n/images/images3/Armillaria_mellea/022_P9021819.jpg\n/images/images3/Armillaria_mellea/023_1_P9158420.jpg\n/images/images3/Armillaria_mellea/023_2_P9204164.jpg\n/images/images3/Armillaria_mellea/023_3_P9179195.jpg\n/images/images3/Armillaria_mellea/023_4_P9158417.jpg\n/images/images3/Armillaria_mellea/023_5_P9158412.jpg\n/images/images3/Armillaria_mellea/024_1_P9179240.jpg\n/images/images3/Armillaria_mellea/024_2_P9179247.jpg\n/images/images3/Armillaria_mellea/024_3_P9102861.jpg\n/images/images3/Armillaria_mellea/024_4_100_3073.jpg\n/images/images3/Armillaria_mellea/025_P9179201.jpg\n/images/images3/Armillaria_mellea/026_1_P8271109.jpg\n/images/images3/Armillaria_mellea/026_2_P9204002.jpg\n/images/images3/Armillaria_mellea/027_1_100_3464.jpg\n/images/images3/Armillaria_mellea/027_2_100_1624.jpg\n/images/images3/Armillaria_mellea/029_1_100_5156.jpg\n/images/images3/Armillaria_mellea/029_100_5156.jpg\n/images/images3/Armillaria_mellea/030_3_1_100_1710.jpg\n/images/images3/Armillaria_mellea/028_2_P9179235.jpg\n/images/images3/Armillaria_mellea/027_3_P9179226.jpg\n/images/images3/Armillaria_mellea/028_1_P9179251.jpg\n/images/images3/Armillaria_mellea/028_3_P9179229.jpg\n/images/images3/Armillaria_mellea/028_3_r_P9179229.jpg\n/images/images3/Armillaria_mellea/030_1_100_0532.jpg\n/images/images3/Armillaria_mellea/030_2_101_0268.jpg\n/images/images3/Armillaria_mellea/030_4_P8271129.jpg\n/images/images3/Armillaria_mellea/031_1_P8281336.jpg\n/images/images3/Armillaria_mellea/031_2_P9158427.jpg\n/images/images3/Armillaria_mellea/031_3_P9179231.jpg\n/images/images3/Armillaria_mellea/032_100_3077.jpg\n/images/images3/Armillaria_mellea/034_P9179255.jpg\n/images/images3/Armillaria_mellea/037_r_P9179260.jpg\n/images/images3/Armillaria_mellea/035_100_3084.jpg\n/images/images3/Armillaria_mellea/036_100_4675.jpg\n/images/images3/Armillaria_mellea/037_P9179260.jpg\n/images/images3/Armillaria_mellea/038_100_1594.jpg\n/images/images3/Armillaria_mellea/039_P9031970.jpg\n/plugins/content/soccomments/soc/css/vkontakte.png\n/plugins/content/soccomments/soc/css/facebook.png\n/plugins/content/soccomments/soc/css/chat.png\nhttp://www.gravatar.com/avatar/03eeb37a4a28e3b87685793338691f1b?d\u003dhttp%3A%2F%2Fxn--90acbgep7bn9h.xn--p1ai%2Fcomponents%2Fcom_jcomments%2Fimages%2Fno_avatar.png\n/component/jcomments/captcha/46917\nhttps://img.labirint.ru/images/books1/565335/small.jpg\nhttp://www.gravatar.com/avatar.php?gravatar_id\u003d6dca0b434de43049b9a9cf9083eb5cef\u0026default\u003dhttp%3A%2F%2Fxn--90acbgep7bn9h.xn--p1ai%2Fcomponents%2Fcom_jcomments%2Fimages%2Fno_avatar.png\nhttp://www.gravatar.com/avatar.php?gravatar_id\u003dfe6d215d636480e30109b10d221f09c9\u0026default\u003dhttp%3A%2F%2Fxn--90acbgep7bn9h.xn--p1ai%2Fcomponents%2Fcom_jcomments%2Fimages%2Fno_avatar.png\nhttp://www.gravatar.com/avatar.php?gravatar_id\u003d55374d246933181f496f59ef2b10b187\u0026default\u003dhttp%3A%2F%2Fxn--90acbgep7bn9h.xn--p1ai%2Fcomponents%2Fcom_jcomments%2Fimages%2Fno_avatar.png\nhttp://www.gravatar.com/avatar.php?gravatar_id\u003d2686a2fdf4aca53c7bb1eef4b9c7a41d\u0026default\u003dhttp%3A%2F%2Fxn--90acbgep7bn9h.xn--p1ai%2Fcomponents%2Fcom_jcomments%2Fimages%2Fno_avatar.png\nhttp://www.gravatar.com/avatar.php?gravatar_id\u003d17373fd37c3730452398e7be98ffffb6\u0026default\u003dhttp%3A%2F%2Fxn--90acbgep7bn9h.xn--p1ai%2Fcomponents%2Fcom_jcomments%2Fimages%2Fno_avatar.png\n/images/uloma2.png\n//mc.yandex.ru/watch/30646152\n"
          ],
          "output_type": "stream"
        }
      ],
      "source": "links \u003d [\u0027\u0027]",
      "metadata": {
        "pycharm": {
          "metadata": false,
          "name": "#%%\n",
          "is_executing": false
        }
      }
    },
    {
      "cell_type": "code",
      "execution_count": 59,
      "outputs": [],
      "source": "",
      "metadata": {
        "pycharm": {
          "metadata": false,
          "name": "#%%\n",
          "is_executing": false
        }
      }
    },
    {
      "cell_type": "code",
      "execution_count": null,
      "outputs": [],
      "source": "for link in soup.find_all(\u0027img\u0027):\n    stra \u003d link.get(\u0027src\u0027)\n    print(stra)\n\n",
      "metadata": {
        "pycharm": {
          "metadata": false,
          "name": "#%%\n"
        }
      }
    }
  ],
  "metadata": {
    "language_info": {
      "codemirror_mode": {
        "name": "ipython",
        "version": 2
      },
      "file_extension": ".py",
      "mimetype": "text/x-python",
      "name": "python",
      "nbconvert_exporter": "python",
      "pygments_lexer": "ipython2",
      "version": "2.7.6"
    },
    "kernelspec": {
      "name": "python3",
      "language": "python",
      "display_name": "Python 3"
    }
  },
  "nbformat": 4,
  "nbformat_minor": 0
}